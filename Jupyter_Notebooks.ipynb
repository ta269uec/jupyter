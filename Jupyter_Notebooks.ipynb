{
 "cells": [
  {
   "cell_type": "markdown",
   "metadata": {
    "Tags": [
     "verun21",
     "gerun"
    ],
    "name": "verun",
    "name21": [
     "verun21",
     "gerun"
    ]
   },
   "source": [
    "# Jupyter Notebooks Advanced Concepts"
   ]
  },
  {
   "cell_type": "markdown",
   "metadata": {},
   "source": [
    "## Widgets"
   ]
  },
  {
   "cell_type": "markdown",
   "metadata": {},
   "source": [
    "### Aligned Widgets Example 1"
   ]
  },
  {
   "cell_type": "code",
   "execution_count": null,
   "metadata": {},
   "outputs": [],
   "source": [
    "from ipywidgets import widgets\n",
    "from IPython.display import Javascript, display\n",
    "\n",
    "align_kw = dict(\n",
    "    _css = (('.widget-label', 'min-width', '20ex'),),\n",
    "    margin = '0px 0px 5px 12px'\n",
    ")\n",
    "platform_ui = widgets.Dropdown(description = 'platform',options=['iPhone','iPad','Android'], **align_kw)\n",
    "event_type_ui = widgets.Text(value='open', description='Test Event', **align_kw)\n",
    "os_version_ui = widgets.Text(value='iOS9', description='Operating System', **align_kw)\n",
    "refresh_ui = widgets.Checkbox(description='Force Refresh', **align_kw)\n",
    "\n",
    "display(platform_ui,event_type_ui,os_version_ui,refresh_ui)"
   ]
  },
  {
   "cell_type": "markdown",
   "metadata": {},
   "source": [
    "### Aligned Widgets Example 2"
   ]
  },
  {
   "cell_type": "code",
   "execution_count": null,
   "metadata": {},
   "outputs": [],
   "source": [
    "import ipywidgets as widgets\n",
    "from IPython.display import display, HTML\n",
    "widget_list={}\n",
    "for label in (\"longish description\",\"brief\"):\n",
    "    widget_list[label]=widgets.Text(description=label)\n",
    "    widget_list[label].add_class(\"balanced-text\")\n",
    "\n",
    "display(HTML(\"<style>div.balanced-text .widget-label {max-width:200px; width:200px}</style>\"))\n",
    "display(widgets.VBox(list(widget_list.values())))"
   ]
  },
  {
   "cell_type": "markdown",
   "metadata": {},
   "source": [
    "### Aligned Widgets Example 3"
   ]
  },
  {
   "cell_type": "code",
   "execution_count": null,
   "metadata": {},
   "outputs": [],
   "source": [
    "from ipywidgets import Layout, Button, Box, Text, Textarea, Dropdown, Label, IntSlider\n",
    "\n",
    "label_layout = Layout()\n",
    "\n",
    "form_item_layout = Layout(\n",
    "    display='flex',\n",
    "    flex_flow='row',\n",
    "    justify_content='space-between'\n",
    ")\n",
    "\n",
    "form_items = [\n",
    "    Box([Label(value='Age of the captain'), IntSlider(min=40, max=60)], layout=form_item_layout),\n",
    "    Box([Label(value='Egg style'),\n",
    "         Dropdown(options=['Scrambled', 'Sunny side up', 'Over easy'])], layout=form_item_layout),\n",
    "    Box([Label(value='Ship size'),\n",
    "         Text()], layout=form_item_layout),\n",
    "    Box([Label(value='Information'),\n",
    "         Textarea()], layout=form_item_layout)\n",
    "]\n",
    "\n",
    "form = Box(form_items, layout=Layout(\n",
    "    display='flex',\n",
    "    flex_flow='column',\n",
    "    border='solid 2px',\n",
    "    align_items='stretch',\n",
    "    width='100%'\n",
    "))\n",
    "form"
   ]
  },
  {
   "cell_type": "markdown",
   "metadata": {},
   "source": [
    "### Link 2 widgets"
   ]
  },
  {
   "cell_type": "code",
   "execution_count": null,
   "metadata": {},
   "outputs": [],
   "source": [
    "import ipywidgets as widgets\n",
    "slider = widgets.IntSlider()\n",
    "text = widgets.IntText()\n",
    "display(slider, text)\n",
    "widgets.jslink((slider, 'value'), (text, 'value'))"
   ]
  },
  {
   "cell_type": "markdown",
   "metadata": {},
   "source": [
    "### Widget events"
   ]
  },
  {
   "cell_type": "markdown",
   "metadata": {},
   "source": [
    "## Javascript for Notebooks"
   ]
  },
  {
   "cell_type": "markdown",
   "metadata": {},
   "source": [
    "### Javascript code for Jupyter UI\n",
    "[JS Code for Notebooks](https://github.com/jupyter/notebook/tree/master/notebook/static/notebook/js)"
   ]
  },
  {
   "cell_type": "markdown",
   "metadata": {},
   "source": [
    "### Javascript to list all properties of notebook"
   ]
  },
  {
   "cell_type": "code",
   "execution_count": 1,
   "metadata": {},
   "outputs": [
    {
     "data": {
      "application/javascript": [
       "for(var property in Jupyter.notebook){ console.log(property)}\n"
      ],
      "text/plain": [
       "<IPython.core.display.Javascript object>"
      ]
     },
     "metadata": {},
     "output_type": "display_data"
    }
   ],
   "source": [
    "%%javascript\n",
    "for(var property in Jupyter.notebook){ console.log(property)}"
   ]
  },
  {
   "cell_type": "markdown",
   "metadata": {},
   "source": [
    "### Javascript to show cell metadata"
   ]
  },
  {
   "cell_type": "code",
   "execution_count": null,
   "metadata": {},
   "outputs": [],
   "source": [
    "%%javascript\n",
    "var c = Jupyter.notebook.get_cell(0);\n",
    "console.log(c._metadata['name'])"
   ]
  },
  {
   "cell_type": "markdown",
   "metadata": {},
   "source": [
    "### Javascript to edit cell metadata"
   ]
  },
  {
   "cell_type": "code",
   "execution_count": 4,
   "metadata": {},
   "outputs": [
    {
     "data": {
      "application/javascript": [
       "var c = Jupyter.notebook.get_cell(0);\n",
       "c._metadata['name'] = \"verun\"\n",
       "console.log(c._metadata['name'])\n"
      ],
      "text/plain": [
       "<IPython.core.display.Javascript object>"
      ]
     },
     "metadata": {},
     "output_type": "display_data"
    }
   ],
   "source": [
    "%%javascript\n",
    "var c = Jupyter.notebook.get_cell(0);\n",
    "c._metadata['name'] = \"verun\"\n",
    "console.log(c._metadata['name'])"
   ]
  },
  {
   "cell_type": "markdown",
   "metadata": {},
   "source": [
    "### Javascript to add new metadata"
   ]
  },
  {
   "cell_type": "code",
   "execution_count": null,
   "metadata": {},
   "outputs": [],
   "source": [
    "%%javascript\n",
    "var c = Jupyter.notebook.get_cell(0);\n",
    "c._metadata['name21'] = [\"verun21\", \"gerun\"]\n",
    "console.log(c._metadata['name21'])"
   ]
  },
  {
   "cell_type": "markdown",
   "metadata": {},
   "source": [
    "### Javascript for mutating cells\n",
    "<br>\n",
    "Your Javascript will have a handle on the OutputArea applying the Javascript, but not one all the way to the cell (in general, output areas can be used without cells or notebooks). You can find the cell by identifying the parent .cell element, and then getting the cell corresponding to that element:"
   ]
  },
  {
   "cell_type": "code",
   "execution_count": 5,
   "metadata": {},
   "outputs": [
    {
     "data": {
      "application/javascript": [
       "var output_area = this;\n",
       "// find my cell element\n",
       "var cell_element = output_area.element.parents('.cell');\n",
       "// which cell is it?\n",
       "var cell_idx = Jupyter.notebook.get_cell_elements().index(cell_element);\n",
       "// get the cell object\n",
       "var cell = Jupyter.notebook.get_cell(cell_idx);\n",
       "console.log(cell)\n"
      ],
      "text/plain": [
       "<IPython.core.display.Javascript object>"
      ]
     },
     "metadata": {},
     "output_type": "display_data"
    }
   ],
   "source": [
    "%%javascript\n",
    "var output_area = this;\n",
    "// find my cell element\n",
    "var cell_element = output_area.element.parents('.cell');\n",
    "// which cell is it?\n",
    "var cell_idx = Jupyter.notebook.get_cell_elements().index(cell_element);\n",
    "// get the cell object\n",
    "var cell = Jupyter.notebook.get_cell(cell_idx);\n",
    "console.log(cell)"
   ]
  },
  {
   "cell_type": "markdown",
   "metadata": {},
   "source": [
    "### Javascript to add new cell below"
   ]
  },
  {
   "cell_type": "code",
   "execution_count": 11,
   "metadata": {},
   "outputs": [
    {
     "data": {
      "application/javascript": [
       "var output_area = this;\n",
       "// find my cell element\n",
       "var cell_element = output_area.element.parents('.cell');\n",
       "// which cell is it?\n",
       "var cell_idx = Jupyter.notebook.get_cell_elements().index(cell_element);\n",
       "\n",
       "var code = Jupyter.notebook.insert_cell_at_index('code', cell_idx+1);\n",
       "console.log(cell_idx)\n"
      ],
      "text/plain": [
       "<IPython.core.display.Javascript object>"
      ]
     },
     "metadata": {},
     "output_type": "display_data"
    }
   ],
   "source": [
    "%%javascript\n",
    "var output_area = this;\n",
    "// find my cell element\n",
    "var cell_element = output_area.element.parents('.cell');\n",
    "// which cell is it?\n",
    "var cell_idx = Jupyter.notebook.get_cell_elements().index(cell_element);\n",
    "\n",
    "var code = Jupyter.notebook.insert_cell_at_index('code', cell_idx+1);\n",
    "console.log(cell_idx)"
   ]
  },
  {
   "cell_type": "markdown",
   "metadata": {},
   "source": [
    "### Javascript Activate Tags - Can use this to create cells with custom tags."
   ]
  },
  {
   "cell_type": "code",
   "execution_count": null,
   "metadata": {},
   "outputs": [],
   "source": [
    "%%javascript\n",
    "var t = Jupyter.notebook.metadata\n",
    "t[\"celltoolbar\"] = \"Tags\"\n",
    "Jupyter.CellToolbar.activate_preset(\"Tags\")\n",
    "console.log(t)"
   ]
  },
  {
   "cell_type": "markdown",
   "metadata": {},
   "source": [
    "## Widget to Add a Code Cell "
   ]
  },
  {
   "cell_type": "code",
   "execution_count": null,
   "metadata": {},
   "outputs": [],
   "source": [
    "import base64\n",
    "from IPython.display import Javascript, display\n",
    "from IPython.utils.py3compat import str_to_bytes, bytes_to_str\n",
    "def create_code_cell(code='', where='below'):\n",
    "    \"\"\"Create a code cell in the IPython Notebook.\n",
    "\n",
    "    Parameters\n",
    "    code: unicode\n",
    "        Code to fill the new code cell with.\n",
    "    where: unicode\n",
    "        Where to add the new code cell.\n",
    "        Possible values include:\n",
    "            at_bottom\n",
    "            above\n",
    "            below\"\"\"\n",
    "    encoded_code = bytes_to_str(base64.b64encode(str_to_bytes(code)))\n",
    "    display(Javascript(\"\"\"\n",
    "        var code = Jupyter.notebook.insert_cell_{0}('code');\n",
    "        code.set_text(atob(\"{1}\"));\n",
    "    \"\"\".format(where, encoded_code)))\n",
    "\n",
    "def on_click(button):\n",
    "    create_code_cell('print(\"Hello world!\")')\n",
    "btn = widgets.Button(description='Show hello world code')\n",
    "btn.on_click(on_click)\n",
    "display(btn)"
   ]
  },
  {
   "cell_type": "markdown",
   "metadata": {},
   "source": [
    "## Widget to Add a Markdown Cell Below and edit metadata"
   ]
  },
  {
   "cell_type": "code",
   "execution_count": null,
   "metadata": {
    "cell_style": "center"
   },
   "outputs": [],
   "source": [
    "import base64\n",
    "from IPython.display import Javascript, display\n",
    "from IPython.utils.py3compat import str_to_bytes, bytes_to_str\n",
    "def create_markdown_cell(markdown='', where='below'):\n",
    "    \"\"\"Create a markdown cell in the IPython Notebook.\n",
    "\n",
    "    Parameters\n",
    "    markdown: unicode\n",
    "        Code to fill the new code cell with.\n",
    "    where: unicode\n",
    "        Where to add the new code cell.\n",
    "        Possible values include:\n",
    "            at_bottom\n",
    "            above\n",
    "            below\"\"\"\n",
    "    encoded_code = bytes_to_str(base64.b64encode(str_to_bytes(markdown)))\n",
    "    display(Javascript(\"\"\"\n",
    "        var mdown = Jupyter.notebook.insert_cell_{0}('markdown');\n",
    "        mdown.set_text(atob(\"{1}\"));\n",
    "        mdown._metadata['name']=\"tarun\";\n",
    "        mdown._metadata['tags']=[\"tarun1\", \"tarun2\"];\n",
    "        var t = Jupyter.toolbar.notebook.metadata\n",
    "        t[\"celltoolbar\"] = \"Tags\"\n",
    "    \"\"\".format(where, encoded_code)))\n",
    "\n",
    "def on_click1(button):\n",
    "    create_markdown_cell('This is a text!')\n",
    "btn1 = widgets.Button(description='Insert Markdown Text')\n",
    "btn1.on_click(on_click1)\n",
    "display(btn1)"
   ]
  },
  {
   "cell_type": "code",
   "execution_count": null,
   "metadata": {},
   "outputs": [],
   "source": []
  },
  {
   "cell_type": "code",
   "execution_count": null,
   "metadata": {},
   "outputs": [],
   "source": []
  }
 ],
 "metadata": {
  "celltoolbar": "Edit Metadata",
  "kernelspec": {
   "display_name": "Python 3",
   "language": "python",
   "name": "python3"
  },
  "language_info": {
   "codemirror_mode": {
    "name": "ipython",
    "version": 3
   },
   "file_extension": ".py",
   "mimetype": "text/x-python",
   "name": "python",
   "nbconvert_exporter": "python",
   "pygments_lexer": "ipython3",
   "version": "3.7.3"
  },
  "latex_envs": {
   "LaTeX_envs_menu_present": true,
   "autoclose": false,
   "autocomplete": true,
   "bibliofile": "biblio.bib",
   "cite_by": "apalike",
   "current_citInitial": 1,
   "eqLabelWithNumbers": true,
   "eqNumInitial": 1,
   "hotkeys": {
    "equation": "Ctrl-E",
    "itemize": "Ctrl-I"
   },
   "labels_anchors": false,
   "latex_user_defs": false,
   "report_style_numbering": false,
   "user_envs_cfg": false
  },
  "toc": {
   "base_numbering": 1,
   "nav_menu": {},
   "number_sections": true,
   "sideBar": true,
   "skip_h1_title": false,
   "title_cell": "Table of Contents",
   "title_sidebar": "Contents",
   "toc_cell": false,
   "toc_position": {
    "height": "261.333px",
    "left": "0px",
    "top": "110px",
    "width": "262.604px"
   },
   "toc_section_display": false,
   "toc_window_display": true
  }
 },
 "nbformat": 4,
 "nbformat_minor": 2
}
