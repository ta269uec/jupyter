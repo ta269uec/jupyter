{
 "cells": [
  {
   "cell_type": "markdown",
   "metadata": {},
   "source": [
    "# Git\n",
    "[Introduction to Git - Core Concepts:](https://youtu.be/uR6G2v_WsRA)<br>\n",
    "[Introduction to Git - Branching and Merging:](https://youtu.be/FyAAIHHClqI)<br>\n",
    "[Introduction to Git - Remotes](https://www.youtube.com/watch?v=Gg4bLk8cGNo)<br>"
   ]
  },
  {
   "cell_type": "markdown",
   "metadata": {},
   "source": [
    "# Install Git-Python"
   ]
  },
  {
   "cell_type": "markdown",
   "metadata": {},
   "source": [
    "[Introduction to gitpython](https://gitpython.readthedocs.io/en/stable/intro.html)<br>\n",
    "pip install gitpython"
   ]
  },
  {
   "cell_type": "code",
   "execution_count": 74,
   "metadata": {},
   "outputs": [],
   "source": [
    "import git"
   ]
  },
  {
   "cell_type": "code",
   "execution_count": 75,
   "metadata": {},
   "outputs": [],
   "source": [
    "src_repo = \"https://github.com/ta269uec/jupyter\"\n",
    "dest_folder = \"report\""
   ]
  },
  {
   "cell_type": "code",
   "execution_count": 76,
   "metadata": {},
   "outputs": [],
   "source": [
    "import os, shutil, stat\n",
    "\n",
    "def remove_readonly(fn, path, excinfo):\n",
    "    try:\n",
    "        os.chmod(path, stat.S_IWRITE)\n",
    "        fn(path)\n",
    "    except Exception as exc:\n",
    "        print(\"Skipped:\", path, \"because:\\n\", exc)\n",
    "\n",
    "shutil.rmtree(dest_folder, onerror=remove_readonly)"
   ]
  },
  {
   "cell_type": "code",
   "execution_count": 77,
   "metadata": {},
   "outputs": [
    {
     "data": {
      "text/plain": [
       "<git.Repo \"C:\\Users\\tarun\\report\\.git\">"
      ]
     },
     "execution_count": 77,
     "metadata": {},
     "output_type": "execute_result"
    }
   ],
   "source": [
    "from git.repo.base import Repo\n",
    "cloned_repo = Repo.clone_from(src_repo, dest_folder)\n",
    "cloned_repo"
   ]
  },
  {
   "cell_type": "code",
   "execution_count": 78,
   "metadata": {},
   "outputs": [],
   "source": [
    "remote_url = \"https://github.com/kb269uec/\"\n",
    "remote_alias = \"upstream\"\n",
    "remote_repo = Repo.create_remote(cloned_repo, remote_alias, remote_url)"
   ]
  },
  {
   "cell_type": "code",
   "execution_count": 79,
   "metadata": {},
   "outputs": [
    {
     "name": "stdout",
     "output_type": "stream",
     "text": [
      "https://github.com/ta269uec/jupyter\n",
      "origin\n",
      "https://github.com/kb269uec/\n",
      "upstream\n"
     ]
    }
   ],
   "source": [
    "for remote in remote_repo.repo.remotes:\n",
    "    for url in remote.urls:\n",
    "        print(url)\n",
    "    print(remote.name)"
   ]
  },
  {
   "cell_type": "code",
   "execution_count": 80,
   "metadata": {},
   "outputs": [
    {
     "ename": "GitCommandError",
     "evalue": "Cmd('git') failed due to: exit code(128)\n  cmdline: git push --porcelain upstream master:master\n  stderr: 'fatal: repository 'https://github.com/kb269uec/' not found'",
     "output_type": "error",
     "traceback": [
      "\u001b[1;31m---------------------------------------------------------------------------\u001b[0m",
      "\u001b[1;31mGitCommandError\u001b[0m                           Traceback (most recent call last)",
      "\u001b[1;32m<ipython-input-80-3732f953d986>\u001b[0m in \u001b[0;36m<module>\u001b[1;34m\u001b[0m\n\u001b[0;32m      1\u001b[0m \u001b[0mupstream_repo\u001b[0m \u001b[1;33m=\u001b[0m \u001b[0mremote_repo\u001b[0m\u001b[1;33m.\u001b[0m\u001b[0mrepo\u001b[0m\u001b[1;33m.\u001b[0m\u001b[0mremote\u001b[0m\u001b[1;33m(\u001b[0m\u001b[1;34m'upstream'\u001b[0m\u001b[1;33m)\u001b[0m\u001b[1;33m\u001b[0m\u001b[1;33m\u001b[0m\u001b[0m\n\u001b[1;32m----> 2\u001b[1;33m \u001b[0mupstream_repo\u001b[0m\u001b[1;33m.\u001b[0m\u001b[0mpush\u001b[0m\u001b[1;33m(\u001b[0m\u001b[0mrefspec\u001b[0m\u001b[1;33m=\u001b[0m\u001b[1;34m'master:master'\u001b[0m\u001b[1;33m)\u001b[0m\u001b[1;33m\u001b[0m\u001b[1;33m\u001b[0m\u001b[0m\n\u001b[0m\u001b[0;32m      3\u001b[0m \u001b[0mdir\u001b[0m\u001b[1;33m(\u001b[0m\u001b[0mupstream_repo\u001b[0m\u001b[1;33m)\u001b[0m\u001b[1;33m\u001b[0m\u001b[1;33m\u001b[0m\u001b[0m\n",
      "\u001b[1;32m~\\AppData\\Local\\Continuum\\anaconda3\\lib\\site-packages\\git\\remote.py\u001b[0m in \u001b[0;36mpush\u001b[1;34m(self, refspec, progress, **kwargs)\u001b[0m\n\u001b[0;32m    841\u001b[0m         proc = self.repo.git.push(self, refspec, porcelain=True, as_process=True,\n\u001b[0;32m    842\u001b[0m                                   universal_newlines=True, **kwargs)\n\u001b[1;32m--> 843\u001b[1;33m         \u001b[1;32mreturn\u001b[0m \u001b[0mself\u001b[0m\u001b[1;33m.\u001b[0m\u001b[0m_get_push_info\u001b[0m\u001b[1;33m(\u001b[0m\u001b[0mproc\u001b[0m\u001b[1;33m,\u001b[0m \u001b[0mprogress\u001b[0m\u001b[1;33m)\u001b[0m\u001b[1;33m\u001b[0m\u001b[1;33m\u001b[0m\u001b[0m\n\u001b[0m\u001b[0;32m    844\u001b[0m \u001b[1;33m\u001b[0m\u001b[0m\n\u001b[0;32m    845\u001b[0m     \u001b[1;33m@\u001b[0m\u001b[0mproperty\u001b[0m\u001b[1;33m\u001b[0m\u001b[1;33m\u001b[0m\u001b[0m\n",
      "\u001b[1;32m~\\AppData\\Local\\Continuum\\anaconda3\\lib\\site-packages\\git\\remote.py\u001b[0m in \u001b[0;36m_get_push_info\u001b[1;34m(self, proc, progress)\u001b[0m\n\u001b[0;32m    727\u001b[0m         \u001b[0mstderr_text\u001b[0m \u001b[1;33m=\u001b[0m \u001b[0mprogress\u001b[0m\u001b[1;33m.\u001b[0m\u001b[0merror_lines\u001b[0m \u001b[1;32mand\u001b[0m \u001b[1;34m'\\n'\u001b[0m\u001b[1;33m.\u001b[0m\u001b[0mjoin\u001b[0m\u001b[1;33m(\u001b[0m\u001b[0mprogress\u001b[0m\u001b[1;33m.\u001b[0m\u001b[0merror_lines\u001b[0m\u001b[1;33m)\u001b[0m \u001b[1;32mor\u001b[0m \u001b[1;34m''\u001b[0m\u001b[1;33m\u001b[0m\u001b[1;33m\u001b[0m\u001b[0m\n\u001b[0;32m    728\u001b[0m         \u001b[1;32mtry\u001b[0m\u001b[1;33m:\u001b[0m\u001b[1;33m\u001b[0m\u001b[1;33m\u001b[0m\u001b[0m\n\u001b[1;32m--> 729\u001b[1;33m             \u001b[0mproc\u001b[0m\u001b[1;33m.\u001b[0m\u001b[0mwait\u001b[0m\u001b[1;33m(\u001b[0m\u001b[0mstderr\u001b[0m\u001b[1;33m=\u001b[0m\u001b[0mstderr_text\u001b[0m\u001b[1;33m)\u001b[0m\u001b[1;33m\u001b[0m\u001b[1;33m\u001b[0m\u001b[0m\n\u001b[0m\u001b[0;32m    730\u001b[0m         \u001b[1;32mexcept\u001b[0m \u001b[0mException\u001b[0m\u001b[1;33m:\u001b[0m\u001b[1;33m\u001b[0m\u001b[1;33m\u001b[0m\u001b[0m\n\u001b[0;32m    731\u001b[0m             \u001b[1;32mif\u001b[0m \u001b[1;32mnot\u001b[0m \u001b[0moutput\u001b[0m\u001b[1;33m:\u001b[0m\u001b[1;33m\u001b[0m\u001b[1;33m\u001b[0m\u001b[0m\n",
      "\u001b[1;32m~\\AppData\\Local\\Continuum\\anaconda3\\lib\\site-packages\\git\\cmd.py\u001b[0m in \u001b[0;36mwait\u001b[1;34m(self, stderr)\u001b[0m\n\u001b[0;32m    413\u001b[0m                 \u001b[0merrstr\u001b[0m \u001b[1;33m=\u001b[0m \u001b[0mread_all_from_possibly_closed_stream\u001b[0m\u001b[1;33m(\u001b[0m\u001b[0mself\u001b[0m\u001b[1;33m.\u001b[0m\u001b[0mproc\u001b[0m\u001b[1;33m.\u001b[0m\u001b[0mstderr\u001b[0m\u001b[1;33m)\u001b[0m\u001b[1;33m\u001b[0m\u001b[1;33m\u001b[0m\u001b[0m\n\u001b[0;32m    414\u001b[0m                 \u001b[0mlog\u001b[0m\u001b[1;33m.\u001b[0m\u001b[0mdebug\u001b[0m\u001b[1;33m(\u001b[0m\u001b[1;34m'AutoInterrupt wait stderr: %r'\u001b[0m \u001b[1;33m%\u001b[0m \u001b[1;33m(\u001b[0m\u001b[0merrstr\u001b[0m\u001b[1;33m,\u001b[0m\u001b[1;33m)\u001b[0m\u001b[1;33m)\u001b[0m\u001b[1;33m\u001b[0m\u001b[1;33m\u001b[0m\u001b[0m\n\u001b[1;32m--> 415\u001b[1;33m                 \u001b[1;32mraise\u001b[0m \u001b[0mGitCommandError\u001b[0m\u001b[1;33m(\u001b[0m\u001b[0mself\u001b[0m\u001b[1;33m.\u001b[0m\u001b[0margs\u001b[0m\u001b[1;33m,\u001b[0m \u001b[0mstatus\u001b[0m\u001b[1;33m,\u001b[0m \u001b[0merrstr\u001b[0m\u001b[1;33m)\u001b[0m\u001b[1;33m\u001b[0m\u001b[1;33m\u001b[0m\u001b[0m\n\u001b[0m\u001b[0;32m    416\u001b[0m             \u001b[1;31m# END status handling\u001b[0m\u001b[1;33m\u001b[0m\u001b[1;33m\u001b[0m\u001b[1;33m\u001b[0m\u001b[0m\n\u001b[0;32m    417\u001b[0m             \u001b[1;32mreturn\u001b[0m \u001b[0mstatus\u001b[0m\u001b[1;33m\u001b[0m\u001b[1;33m\u001b[0m\u001b[0m\n",
      "\u001b[1;31mGitCommandError\u001b[0m: Cmd('git') failed due to: exit code(128)\n  cmdline: git push --porcelain upstream master:master\n  stderr: 'fatal: repository 'https://github.com/kb269uec/' not found'"
     ]
    }
   ],
   "source": [
    "upstream_repo = remote_repo.repo.remote('upstream')\n",
    "upstream_repo.push(refspec='master:master')\n",
    "dir(upstream_repo)"
   ]
  },
  {
   "cell_type": "code",
   "execution_count": 38,
   "metadata": {},
   "outputs": [
    {
     "data": {
      "text/plain": [
       "['DAEMON_EXPORT_FILE',\n",
       " 'GitCommandWrapperType',\n",
       " '__class__',\n",
       " '__del__',\n",
       " '__delattr__',\n",
       " '__dict__',\n",
       " '__dir__',\n",
       " '__doc__',\n",
       " '__enter__',\n",
       " '__eq__',\n",
       " '__exit__',\n",
       " '__format__',\n",
       " '__ge__',\n",
       " '__getattribute__',\n",
       " '__gt__',\n",
       " '__hash__',\n",
       " '__init__',\n",
       " '__init_subclass__',\n",
       " '__le__',\n",
       " '__lt__',\n",
       " '__module__',\n",
       " '__ne__',\n",
       " '__new__',\n",
       " '__reduce__',\n",
       " '__reduce_ex__',\n",
       " '__repr__',\n",
       " '__setattr__',\n",
       " '__sizeof__',\n",
       " '__str__',\n",
       " '__subclasshook__',\n",
       " '__weakref__',\n",
       " '_bare',\n",
       " '_clone',\n",
       " '_common_dir',\n",
       " '_get_alternates',\n",
       " '_get_config_path',\n",
       " '_get_untracked_files',\n",
       " '_set_alternates',\n",
       " '_working_tree_dir',\n",
       " 'active_branch',\n",
       " 'alternates',\n",
       " 'archive',\n",
       " 'bare',\n",
       " 'blame',\n",
       " 'blame_incremental',\n",
       " 'branches',\n",
       " 'clone',\n",
       " 'clone_from',\n",
       " 'close',\n",
       " 'commit',\n",
       " 'common_dir',\n",
       " 'config_level',\n",
       " 'config_reader',\n",
       " 'config_writer',\n",
       " 'create_head',\n",
       " 'create_remote',\n",
       " 'create_submodule',\n",
       " 'create_tag',\n",
       " 'daemon_export',\n",
       " 'delete_head',\n",
       " 'delete_remote',\n",
       " 'delete_tag',\n",
       " 'description',\n",
       " 'git',\n",
       " 'git_dir',\n",
       " 'has_separate_working_tree',\n",
       " 'head',\n",
       " 'heads',\n",
       " 'index',\n",
       " 'init',\n",
       " 'is_ancestor',\n",
       " 'is_dirty',\n",
       " 'iter_commits',\n",
       " 'iter_submodules',\n",
       " 'iter_trees',\n",
       " 'merge_base',\n",
       " 'odb',\n",
       " 're_author_committer_start',\n",
       " 're_hexsha_only',\n",
       " 're_hexsha_shortened',\n",
       " 're_tab_full_line',\n",
       " 're_whitespace',\n",
       " 'references',\n",
       " 'refs',\n",
       " 'remote',\n",
       " 'remotes',\n",
       " 'rev_parse',\n",
       " 'submodule',\n",
       " 'submodule_update',\n",
       " 'submodules',\n",
       " 'tag',\n",
       " 'tags',\n",
       " 'tree',\n",
       " 'untracked_files',\n",
       " 'working_dir',\n",
       " 'working_tree_dir']"
      ]
     },
     "execution_count": 38,
     "metadata": {},
     "output_type": "execute_result"
    }
   ],
   "source": [
    "dir(remote_repo.repo)"
   ]
  },
  {
   "cell_type": "code",
   "execution_count": null,
   "metadata": {},
   "outputs": [],
   "source": []
  }
 ],
 "metadata": {
  "kernelspec": {
   "display_name": "Python 3",
   "language": "python",
   "name": "python3"
  },
  "language_info": {
   "codemirror_mode": {
    "name": "ipython",
    "version": 3
   },
   "file_extension": ".py",
   "mimetype": "text/x-python",
   "name": "python",
   "nbconvert_exporter": "python",
   "pygments_lexer": "ipython3",
   "version": "3.7.3"
  },
  "latex_envs": {
   "LaTeX_envs_menu_present": true,
   "autoclose": false,
   "autocomplete": true,
   "bibliofile": "biblio.bib",
   "cite_by": "apalike",
   "current_citInitial": 1,
   "eqLabelWithNumbers": true,
   "eqNumInitial": 1,
   "hotkeys": {
    "equation": "Ctrl-E",
    "itemize": "Ctrl-I"
   },
   "labels_anchors": false,
   "latex_user_defs": false,
   "report_style_numbering": false,
   "user_envs_cfg": false
  },
  "toc": {
   "base_numbering": 1,
   "nav_menu": {},
   "number_sections": true,
   "sideBar": true,
   "skip_h1_title": false,
   "title_cell": "Table of Contents",
   "title_sidebar": "Contents",
   "toc_cell": false,
   "toc_position": {
    "height": "46.6667px",
    "left": "0px",
    "top": "110px",
    "width": "217.667px"
   },
   "toc_section_display": false,
   "toc_window_display": true
  }
 },
 "nbformat": 4,
 "nbformat_minor": 2
}
