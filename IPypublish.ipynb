{
 "cells": [
  {
   "cell_type": "markdown",
   "metadata": {},
   "source": [
    "# Images"
   ]
  },
  {
   "cell_type": "code",
   "execution_count": null,
   "metadata": {},
   "outputs": [],
   "source": [
    "%matplotlib inline\n",
    "import matplotlib.pyplot as plt\n",
    "import numpy as np\n",
    "plt.plot(np.sin(np.linspace(0, 6)))\n",
    "plt.show()\n",
    "plt.close()"
   ]
  },
  {
   "cell_type": "code",
   "execution_count": null,
   "metadata": {},
   "outputs": [],
   "source": [
    "from ipypublish import nb_setup"
   ]
  },
  {
   "cell_type": "code",
   "execution_count": null,
   "metadata": {},
   "outputs": [],
   "source": [
    "print(\"\"\"\n",
    "This is some printed text,\n",
    "with a nicely formatted output.\n",
    "\"\"\")"
   ]
  },
  {
   "cell_type": "markdown",
   "metadata": {},
   "source": [
    "## Image Layout (Horizontal, Veritcal, Grid)"
   ]
  },
  {
   "cell_type": "code",
   "execution_count": null,
   "metadata": {},
   "outputs": [],
   "source": [
    "import os\n",
    "from ipypublish.tests import TEST_PIC_PATH"
   ]
  },
  {
   "cell_type": "code",
   "execution_count": null,
   "metadata": {},
   "outputs": [],
   "source": [
    "nb_setup.images_hconcat([TEST_PIC_PATH, TEST_PIC_PATH],\n",
    "               width=600, gap=10)"
   ]
  },
  {
   "cell_type": "code",
   "execution_count": null,
   "metadata": {},
   "outputs": [],
   "source": [
    "nb_setup.images_vconcat([TEST_PIC_PATH, TEST_PIC_PATH],\n",
    "               height=400, gap=10)"
   ]
  },
  {
   "cell_type": "code",
   "execution_count": null,
   "metadata": {},
   "outputs": [],
   "source": [
    "nb_setup.images_gridconcat([[_,_] for _ in [TEST_PIC_PATH, TEST_PIC_PATH]],\n",
    "               height=300, vgap=10,hgap=20)"
   ]
  },
  {
   "cell_type": "code",
   "execution_count": null,
   "metadata": {},
   "outputs": [],
   "source": [
    "plt.scatter(np.random.rand(10), np.random.rand(10),\n",
    "            label='data label')\n",
    "plt.ylabel(r'a y label with latex $\\alpha$')\n",
    "plt.legend();"
   ]
  },
  {
   "cell_type": "markdown",
   "metadata": {},
   "source": [
    "# Tables"
   ]
  },
  {
   "cell_type": "code",
   "execution_count": null,
   "metadata": {},
   "outputs": [],
   "source": [
    "pd = nb_setup.setup_pandas(escape_latex=False)\n",
    "df = pd.DataFrame(np.random.rand(3,4),columns=['a','b','c','d'])\n",
    "df.a = ['$\\delta$','x','y']\n",
    "df.b = ['l','m','n']\n",
    "df.set_index(['a','b'])\n",
    "df.round(3)"
   ]
  },
  {
   "cell_type": "markdown",
   "metadata": {},
   "source": [
    "# Latex"
   ]
  },
  {
   "cell_type": "code",
   "execution_count": null,
   "metadata": {},
   "outputs": [],
   "source": [
    "from IPython.display import Latex\n",
    "Latex('$$ a = b+c $$')"
   ]
  },
  {
   "cell_type": "markdown",
   "metadata": {},
   "source": [
    "# IPython Display"
   ]
  },
  {
   "cell_type": "code",
   "execution_count": null,
   "metadata": {},
   "outputs": [],
   "source": [
    "from IPython.display import display\n",
    "df = pd.DataFrame(np.random.random((3, 3)))\n",
    "latex = df.to_latex(index=False)\n",
    "html1 = df.to_html(index=False)\n",
    "display({'text/latex': latex,\n",
    "        'text/html': html1}, raw=True)"
   ]
  },
  {
   "cell_type": "code",
   "execution_count": null,
   "metadata": {},
   "outputs": [],
   "source": [
    "class MyObject(object):\n",
    "    def __init__(self, text):\n",
    "        self.text = text\n",
    "\n",
    "    def _repr_latex_(self):\n",
    "        return \"\\\\textbf{LaTex: \" + self.text + \"}\"\n",
    "\n",
    "    def _repr_html_(self):\n",
    "        return \"<b>HTML: \" + self.text + \"</b>\"\n",
    "\n",
    "display(MyObject('hallo'))"
   ]
  },
  {
   "cell_type": "code",
   "execution_count": null,
   "metadata": {},
   "outputs": [],
   "source": [
    "from IPython.display import display\n",
    "from IPython.display import display_latex\n",
    "from IPython.display import display_markdown\n",
    "\n",
    "x = np.linspace(0, 3.42)\n",
    "\n",
    "for i in range(1,3):\n",
    "\n",
    "    display_markdown(\n",
    "      '### Code Created Heading {0}'.format(i), raw=True)\n",
    "\n",
    "    fig, ax = plt.subplots()\n",
    "    ax.plot(x, np.sin(x*i))\n",
    "    metadata={'ipub': {\n",
    "      'figure': {\n",
    "        'caption': 'Code Created Heading {0}'.format(i)}}}\n",
    "    display(fig, metadata=metadata)\n",
    "    plt.close()"
   ]
  },
  {
   "cell_type": "markdown",
   "metadata": {},
   "source": []
  },
  {
   "cell_type": "markdown",
   "metadata": {},
   "source": [
    "# Markdown\n",
    "In IPyPublish, all Markdown content is converted via Pandoc. Pandoc alllows for filters to be applied to the intermediary representation of the content, which IPyPublish supplies through a group of panflute filters, wrapped in a single ‘master’ filter; ipubpandoc. This filter extends the common markdown syntax to:\n",
    "* Correctly translate pieces of documentation written in other formats (such as using LaTeX commands like \\cite or RST roles like :cite:)\n",
    "* Handle labelling and referencing of figures, tables and equations, and add additional formatting options."
   ]
  },
  {
   "cell_type": "markdown",
   "metadata": {},
   "source": [
    "ipubpandoc is detached from the rest of the notebook conversion process, and so can be used as a standalone process on any markdown content:"
   ]
  },
  {
   "cell_type": "markdown",
   "metadata": {},
   "source": [
    "<b> pandoc -f markdown -t html --filter ipubpandoc path/to/file.md </b>"
   ]
  },
  {
   "cell_type": "markdown",
   "metadata": {},
   "source": [
    "# Converting Notebooks to RMarkdown"
   ]
  },
  {
   "cell_type": "markdown",
   "metadata": {},
   "source": [
    "RMarkdown is a plain text representation of the workbook. Thanks to jupytext, we can easily convert an existing notebooks to RMarkdown (and back):"
   ]
  },
  {
   "cell_type": "markdown",
   "metadata": {},
   "source": [
    "# Inter-Format Translation"
   ]
  },
  {
   "cell_type": "markdown",
   "metadata": {},
   "source": [
    "ipubpandoc attempts to detect any segments of documentation written in LaTeX or Sphinx reStructuredText (and HTML citations), and convert them into a relevant panflute element.\n",
    "\n",
    "Because of this we can write something like this:"
   ]
  },
  {
   "cell_type": "markdown",
   "metadata": {},
   "source": [
    "- citations in @ notation [@zelenyak_molecular_2016; @kirkeminde_thermodynamic_2012]\n",
    "- citations in rst notation :cite:`zelenyak_molecular_2016,kirkeminde_thermodynamic_2012`\n",
    "- citations in latex notation \\cite{zelenyak_molecular_2016,kirkeminde_thermodynamic_2012}\n",
    "- citation in html notation <cite data-cite=\"kirkeminde_thermodynamic_2012\">text</cite>\n",
    "\n",
    "$$a = b + c$$ {#eqnlabel}\n",
    "\n",
    "- a reference in @ notation =@eqnlabel {.capital}\n",
    "- a reference in rst notation :eq:`eqnlabel`\n",
    "- a reference in latex notation \\eqref{eqnlabel}\n",
    "\n",
    ".. note::\n",
    "\n",
    "    a reference in latex notation within an RST directive \\eqref{eqnlabel}"
   ]
  },
  {
   "cell_type": "markdown",
   "metadata": {},
   "source": [
    "Inter-format translation is turned on by default, but if you wish to turn it off, or hide it, simply add to the document metadata:\n",
    "\n",
    "jupyter:\n",
    "  ipub:\n",
    "    pandoc:\n",
    "      convert_raw: true\n",
    "      hide_raw: false"
   ]
  },
  {
   "cell_type": "markdown",
   "metadata": {},
   "source": [
    "# Labelling, Formatting and Referencing Figures, Tables and Equations"
   ]
  },
  {
   "cell_type": "markdown",
   "metadata": {},
   "source": [
    "ipubpandoc allows for figures, tables, equations and references to be supplied with an ‘attribute container’. This is a braced section to the side of the figures, equations, reference or table caption, that parses on additional information to the formatter, e.g. {#id .class-name attribute1=10}.\n",
    "\n",
    "Attribute containers are turned on by default, but if you wish to turn them off, simply add to the document metadata:"
   ]
  },
  {
   "cell_type": "markdown",
   "metadata": {},
   "source": [
    "## Figures\n",
    "Figures can have an identifier and a width or height. Additionally, placement will be used by LaTeX output."
   ]
  },
  {
   "cell_type": "raw",
   "metadata": {},
   "source": [
    "![Image caption](_static/example.jpg){#fig:example width=50% placement='H'}\n",
    "\n",
    "@fig:example"
   ]
  },
  {
   "cell_type": "code",
   "execution_count": null,
   "metadata": {},
   "outputs": [],
   "source": [
    "import ipypublish"
   ]
  },
  {
   "cell_type": "code",
   "execution_count": null,
   "metadata": {},
   "outputs": [],
   "source": [
    "example_notebook = \"example\\\\notebooks\\\\Example.ipynb\""
   ]
  },
  {
   "cell_type": "code",
   "execution_count": null,
   "metadata": {},
   "outputs": [],
   "source": [
    "!nbpublish -pdf -lb \"example\\\\notebooks\\\\Example.ipynb\""
   ]
  },
  {
   "cell_type": "code",
   "execution_count": null,
   "metadata": {},
   "outputs": [],
   "source": []
  },
  {
   "cell_type": "markdown",
   "metadata": {},
   "source": [
    "# References\n",
    "\n",
    "<mark> <b>The bib file biblio.bib was not found\n",
    "\n",
    "</b> </mark>(<a id=\"cit-zelenyak_molecular_2016\" href=\"#call-zelenyak_molecular_2016\">?</a>) !! _This reference was not found in biblio.bib _ !!\n",
    "\n",
    "(<a id=\"cit-kirkeminde_thermodynamic_2012\" href=\"#call-kirkeminde_thermodynamic_2012\">?</a>) !! _This reference was not found in biblio.bib _ !!\n",
    "\n"
   ]
  }
 ],
 "metadata": {
  "kernelspec": {
   "display_name": "Python 3",
   "language": "python",
   "name": "python3"
  },
  "language_info": {
   "codemirror_mode": {
    "name": "ipython",
    "version": 3
   },
   "file_extension": ".py",
   "mimetype": "text/x-python",
   "name": "python",
   "nbconvert_exporter": "python",
   "pygments_lexer": "ipython3",
   "version": "3.7.3"
  },
  "latex_envs": {
   "LaTeX_envs_menu_present": true,
   "autoclose": true,
   "autocomplete": true,
   "bibliofile": "biblio.bib",
   "cite_by": "apalike",
   "current_citInitial": 1,
   "eqLabelWithNumbers": true,
   "eqNumInitial": 1,
   "hotkeys": {
    "equation": "Ctrl-E",
    "itemize": "Ctrl-I"
   },
   "labels_anchors": false,
   "latex_user_defs": false,
   "report_style_numbering": false,
   "user_envs_cfg": false
  },
  "toc": {
   "base_numbering": 1,
   "nav_menu": {},
   "number_sections": true,
   "sideBar": true,
   "skip_h1_title": false,
   "title_cell": "Table of Contents",
   "title_sidebar": "Contents",
   "toc_cell": false,
   "toc_position": {
    "height": "46.6667px",
    "left": "0px",
    "top": "110px",
    "width": "208.333px"
   },
   "toc_section_display": true,
   "toc_window_display": true
  }
 },
 "nbformat": 4,
 "nbformat_minor": 2
}
